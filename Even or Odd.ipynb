{
 "cells": [
  {
   "cell_type": "code",
   "execution_count": null,
   "metadata": {},
   "outputs": [
    {
     "name": "stdout",
     "output_type": "stream",
     "text": [
      "Enter a number to check or enter 'quit': 12\n",
      "You picked an Even Number.\n"
     ]
    }
   ],
   "source": [
    "usernumb = int(input(\"Enter a number to check or enter 'quit': \"))\n",
    "number = usernumb % 2\n",
    "if number > 0:\n",
    "    print(\"You picked an Odd Number.\")\n",
    "else: \n",
    "    print(\"You picked an Even Number.\")\n",
    "while usernumb != 'quit':\n",
    "    usernumb = int(input(\"Enter a number to check or enter 'quit': \"))\n",
    "    "
   ]
  },
  {
   "cell_type": "code",
   "execution_count": null,
   "metadata": {},
   "outputs": [
    {
     "name": "stdout",
     "output_type": "stream",
     "text": [
      "\n",
      "Enter a number to check or enter 'quit': 11\n",
      "I'm not sure what 11 is a muliple of LOL.\n",
      "\n",
      "Enter a number to check or enter 'quit': 77\n",
      "I'm not sure what 77 is a muliple of LOL.\n",
      "\n",
      "Enter a number to check or enter 'quit': 12\n",
      "Thank you! 12 is a multiple of THREE, TWO and FOUR.\n",
      "\n",
      "Enter a number to check or enter 'quit': 50\n",
      "Thank you! 50 is a multiple of FIVE.\n"
     ]
    }
   ],
   "source": [
    "while True:\n",
    "    num = int(input(\"\\nEnter a number to check or enter 'quit': \"))\n",
    "    if num % 5 == 0:\n",
    "        print(\"Thank you! \" + str(num) + \" is a multiple of FIVE.\")\n",
    "    elif num % 3 == 0 and num % 2 ==0 and num % 4 == 0:\n",
    "        print(\"Thank you! \" + str(num) + \" is a multiple of THREE, TWO and FOUR.\")\n",
    "    elif num % 4 == 0:\n",
    "        print(\"Thank you! \" + str(num) + \" is a multiple of FOUR.\")\n",
    "    elif num % 2 == 0:\n",
    "        print(\"Thank you! \" + str(num) + \" is a multiple of TWO.\")\n",
    "    else:\n",
    "        print(\"I'm not sure what \" + str(num)+ \" is a multiple of LOL.\")"
   ]
  },
  {
   "cell_type": "code",
   "execution_count": null,
   "metadata": {},
   "outputs": [],
   "source": [
    "while True:\n",
    "    number = int(input(\"Enter a number to check or enter 'quit': \"))\n",
    "    if number == 'quit':\n",
    "        break\n",
    "    if number % 2 == 0:\n",
    "        print (\"You picked an Even Number.\")\n",
    "    else:\n",
    "        print (\"You picked an Odd Number.\")"
   ]
  },
  {
   "cell_type": "code",
   "execution_count": null,
   "metadata": {},
   "outputs": [],
   "source": []
  }
 ],
 "metadata": {
  "kernelspec": {
   "display_name": "Python 3",
   "language": "python",
   "name": "python3"
  },
  "language_info": {
   "codemirror_mode": {
    "name": "ipython",
    "version": 3
   },
   "file_extension": ".py",
   "mimetype": "text/x-python",
   "name": "python",
   "nbconvert_exporter": "python",
   "pygments_lexer": "ipython3",
   "version": "3.7.6"
  }
 },
 "nbformat": 4,
 "nbformat_minor": 4
}
